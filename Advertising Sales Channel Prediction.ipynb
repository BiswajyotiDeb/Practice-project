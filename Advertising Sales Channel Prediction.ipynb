{
 "cells": [
  {
   "cell_type": "markdown",
   "id": "515bba3a",
   "metadata": {},
   "source": [
    "# Importing modules"
   ]
  },
  {
   "cell_type": "code",
   "execution_count": 1,
   "id": "b0b757b7",
   "metadata": {},
   "outputs": [],
   "source": [
    "import pandas as pd\n",
    "import numpy as np\n",
    "import matplotlib.pyplot as plt\n",
    "import warnings\n",
    "warnings.filterwarnings(\"ignore\")\n",
    "import seaborn as sns"
   ]
  },
  {
   "cell_type": "markdown",
   "id": "bb299375",
   "metadata": {},
   "source": [
    "# Loading the dataet"
   ]
  },
  {
   "cell_type": "code",
   "execution_count": 2,
   "id": "14e2fb50",
   "metadata": {},
   "outputs": [
    {
     "data": {
      "text/html": [
       "<div>\n",
       "<style scoped>\n",
       "    .dataframe tbody tr th:only-of-type {\n",
       "        vertical-align: middle;\n",
       "    }\n",
       "\n",
       "    .dataframe tbody tr th {\n",
       "        vertical-align: top;\n",
       "    }\n",
       "\n",
       "    .dataframe thead th {\n",
       "        text-align: right;\n",
       "    }\n",
       "</style>\n",
       "<table border=\"1\" class=\"dataframe\">\n",
       "  <thead>\n",
       "    <tr style=\"text-align: right;\">\n",
       "      <th></th>\n",
       "      <th>Unnamed: 0</th>\n",
       "      <th>TV</th>\n",
       "      <th>radio</th>\n",
       "      <th>newspaper</th>\n",
       "      <th>sales</th>\n",
       "    </tr>\n",
       "  </thead>\n",
       "  <tbody>\n",
       "    <tr>\n",
       "      <th>0</th>\n",
       "      <td>1</td>\n",
       "      <td>230.1</td>\n",
       "      <td>37.8</td>\n",
       "      <td>69.2</td>\n",
       "      <td>22.1</td>\n",
       "    </tr>\n",
       "    <tr>\n",
       "      <th>1</th>\n",
       "      <td>2</td>\n",
       "      <td>44.5</td>\n",
       "      <td>39.3</td>\n",
       "      <td>45.1</td>\n",
       "      <td>10.4</td>\n",
       "    </tr>\n",
       "    <tr>\n",
       "      <th>2</th>\n",
       "      <td>3</td>\n",
       "      <td>17.2</td>\n",
       "      <td>45.9</td>\n",
       "      <td>69.3</td>\n",
       "      <td>9.3</td>\n",
       "    </tr>\n",
       "    <tr>\n",
       "      <th>3</th>\n",
       "      <td>4</td>\n",
       "      <td>151.5</td>\n",
       "      <td>41.3</td>\n",
       "      <td>58.5</td>\n",
       "      <td>18.5</td>\n",
       "    </tr>\n",
       "    <tr>\n",
       "      <th>4</th>\n",
       "      <td>5</td>\n",
       "      <td>180.8</td>\n",
       "      <td>10.8</td>\n",
       "      <td>58.4</td>\n",
       "      <td>12.9</td>\n",
       "    </tr>\n",
       "    <tr>\n",
       "      <th>...</th>\n",
       "      <td>...</td>\n",
       "      <td>...</td>\n",
       "      <td>...</td>\n",
       "      <td>...</td>\n",
       "      <td>...</td>\n",
       "    </tr>\n",
       "    <tr>\n",
       "      <th>195</th>\n",
       "      <td>196</td>\n",
       "      <td>38.2</td>\n",
       "      <td>3.7</td>\n",
       "      <td>13.8</td>\n",
       "      <td>7.6</td>\n",
       "    </tr>\n",
       "    <tr>\n",
       "      <th>196</th>\n",
       "      <td>197</td>\n",
       "      <td>94.2</td>\n",
       "      <td>4.9</td>\n",
       "      <td>8.1</td>\n",
       "      <td>9.7</td>\n",
       "    </tr>\n",
       "    <tr>\n",
       "      <th>197</th>\n",
       "      <td>198</td>\n",
       "      <td>177.0</td>\n",
       "      <td>9.3</td>\n",
       "      <td>6.4</td>\n",
       "      <td>12.8</td>\n",
       "    </tr>\n",
       "    <tr>\n",
       "      <th>198</th>\n",
       "      <td>199</td>\n",
       "      <td>283.6</td>\n",
       "      <td>42.0</td>\n",
       "      <td>66.2</td>\n",
       "      <td>25.5</td>\n",
       "    </tr>\n",
       "    <tr>\n",
       "      <th>199</th>\n",
       "      <td>200</td>\n",
       "      <td>232.1</td>\n",
       "      <td>8.6</td>\n",
       "      <td>8.7</td>\n",
       "      <td>13.4</td>\n",
       "    </tr>\n",
       "  </tbody>\n",
       "</table>\n",
       "<p>200 rows × 5 columns</p>\n",
       "</div>"
      ],
      "text/plain": [
       "     Unnamed: 0     TV  radio  newspaper  sales\n",
       "0             1  230.1   37.8       69.2   22.1\n",
       "1             2   44.5   39.3       45.1   10.4\n",
       "2             3   17.2   45.9       69.3    9.3\n",
       "3             4  151.5   41.3       58.5   18.5\n",
       "4             5  180.8   10.8       58.4   12.9\n",
       "..          ...    ...    ...        ...    ...\n",
       "195         196   38.2    3.7       13.8    7.6\n",
       "196         197   94.2    4.9        8.1    9.7\n",
       "197         198  177.0    9.3        6.4   12.8\n",
       "198         199  283.6   42.0       66.2   25.5\n",
       "199         200  232.1    8.6        8.7   13.4\n",
       "\n",
       "[200 rows x 5 columns]"
      ]
     },
     "execution_count": 2,
     "metadata": {},
     "output_type": "execute_result"
    }
   ],
   "source": [
    "df=pd.read_csv(r'https://raw.githubusercontent.com/dsrscientist/DSData/master/Advertising.csv')\n",
    "df"
   ]
  },
  {
   "cell_type": "code",
   "execution_count": 3,
   "id": "06b3b829",
   "metadata": {},
   "outputs": [
    {
     "data": {
      "text/html": [
       "<div>\n",
       "<style scoped>\n",
       "    .dataframe tbody tr th:only-of-type {\n",
       "        vertical-align: middle;\n",
       "    }\n",
       "\n",
       "    .dataframe tbody tr th {\n",
       "        vertical-align: top;\n",
       "    }\n",
       "\n",
       "    .dataframe thead th {\n",
       "        text-align: right;\n",
       "    }\n",
       "</style>\n",
       "<table border=\"1\" class=\"dataframe\">\n",
       "  <thead>\n",
       "    <tr style=\"text-align: right;\">\n",
       "      <th></th>\n",
       "      <th>TV</th>\n",
       "      <th>radio</th>\n",
       "      <th>newspaper</th>\n",
       "      <th>sales</th>\n",
       "    </tr>\n",
       "  </thead>\n",
       "  <tbody>\n",
       "    <tr>\n",
       "      <th>0</th>\n",
       "      <td>230.1</td>\n",
       "      <td>37.8</td>\n",
       "      <td>69.2</td>\n",
       "      <td>22.1</td>\n",
       "    </tr>\n",
       "    <tr>\n",
       "      <th>1</th>\n",
       "      <td>44.5</td>\n",
       "      <td>39.3</td>\n",
       "      <td>45.1</td>\n",
       "      <td>10.4</td>\n",
       "    </tr>\n",
       "    <tr>\n",
       "      <th>2</th>\n",
       "      <td>17.2</td>\n",
       "      <td>45.9</td>\n",
       "      <td>69.3</td>\n",
       "      <td>9.3</td>\n",
       "    </tr>\n",
       "    <tr>\n",
       "      <th>3</th>\n",
       "      <td>151.5</td>\n",
       "      <td>41.3</td>\n",
       "      <td>58.5</td>\n",
       "      <td>18.5</td>\n",
       "    </tr>\n",
       "    <tr>\n",
       "      <th>4</th>\n",
       "      <td>180.8</td>\n",
       "      <td>10.8</td>\n",
       "      <td>58.4</td>\n",
       "      <td>12.9</td>\n",
       "    </tr>\n",
       "    <tr>\n",
       "      <th>...</th>\n",
       "      <td>...</td>\n",
       "      <td>...</td>\n",
       "      <td>...</td>\n",
       "      <td>...</td>\n",
       "    </tr>\n",
       "    <tr>\n",
       "      <th>195</th>\n",
       "      <td>38.2</td>\n",
       "      <td>3.7</td>\n",
       "      <td>13.8</td>\n",
       "      <td>7.6</td>\n",
       "    </tr>\n",
       "    <tr>\n",
       "      <th>196</th>\n",
       "      <td>94.2</td>\n",
       "      <td>4.9</td>\n",
       "      <td>8.1</td>\n",
       "      <td>9.7</td>\n",
       "    </tr>\n",
       "    <tr>\n",
       "      <th>197</th>\n",
       "      <td>177.0</td>\n",
       "      <td>9.3</td>\n",
       "      <td>6.4</td>\n",
       "      <td>12.8</td>\n",
       "    </tr>\n",
       "    <tr>\n",
       "      <th>198</th>\n",
       "      <td>283.6</td>\n",
       "      <td>42.0</td>\n",
       "      <td>66.2</td>\n",
       "      <td>25.5</td>\n",
       "    </tr>\n",
       "    <tr>\n",
       "      <th>199</th>\n",
       "      <td>232.1</td>\n",
       "      <td>8.6</td>\n",
       "      <td>8.7</td>\n",
       "      <td>13.4</td>\n",
       "    </tr>\n",
       "  </tbody>\n",
       "</table>\n",
       "<p>200 rows × 4 columns</p>\n",
       "</div>"
      ],
      "text/plain": [
       "        TV  radio  newspaper  sales\n",
       "0    230.1   37.8       69.2   22.1\n",
       "1     44.5   39.3       45.1   10.4\n",
       "2     17.2   45.9       69.3    9.3\n",
       "3    151.5   41.3       58.5   18.5\n",
       "4    180.8   10.8       58.4   12.9\n",
       "..     ...    ...        ...    ...\n",
       "195   38.2    3.7       13.8    7.6\n",
       "196   94.2    4.9        8.1    9.7\n",
       "197  177.0    9.3        6.4   12.8\n",
       "198  283.6   42.0       66.2   25.5\n",
       "199  232.1    8.6        8.7   13.4\n",
       "\n",
       "[200 rows x 4 columns]"
      ]
     },
     "execution_count": 3,
     "metadata": {},
     "output_type": "execute_result"
    }
   ],
   "source": [
    "df=df[['TV','radio','newspaper','sales']]\n",
    "df"
   ]
  },
  {
   "cell_type": "markdown",
   "id": "b67dc2b0",
   "metadata": {},
   "source": [
    "# Checking null values in the dataframe"
   ]
  },
  {
   "cell_type": "code",
   "execution_count": 4,
   "id": "ce4c3bbd",
   "metadata": {},
   "outputs": [
    {
     "data": {
      "text/plain": [
       "TV           0\n",
       "radio        0\n",
       "newspaper    0\n",
       "sales        0\n",
       "dtype: int64"
      ]
     },
     "execution_count": 4,
     "metadata": {},
     "output_type": "execute_result"
    }
   ],
   "source": [
    "df.isnull().sum()"
   ]
  },
  {
   "cell_type": "code",
   "execution_count": 5,
   "id": "ae713d9f",
   "metadata": {},
   "outputs": [
    {
     "data": {
      "text/plain": [
       "<AxesSubplot:>"
      ]
     },
     "execution_count": 5,
     "metadata": {},
     "output_type": "execute_result"
    },
    {
     "data": {
      "image/png": "[encoded data removed]",
      "text/plain": [
       "<Figure size 432x288 with 2 Axes>"
      ]
     },
     "metadata": {
      "needs_background": "light"
     },
     "output_type": "display_data"
    }
   ],
   "source": [
    "#data visualisation\n",
    "sns.heatmap(df.isnull())"
   ]
  },
  {
   "cell_type": "markdown",
   "id": "d9b3dab8",
   "metadata": {},
   "source": [
    "Observation: No null values are present in our dataset."
   ]
  },
  {
   "cell_type": "markdown",
   "id": "b2ba7959",
   "metadata": {},
   "source": [
    "# Data Frame Description"
   ]
  },
  {
   "cell_type": "markdown",
   "id": "0eb96edf",
   "metadata": {},
   "source": [
    "When a company enters a market, the distribution strategy and channel it uses are keys to its success in the market, as well as market know-how and customer knowledge and understanding. Because an effective distribution strategy under efficient supply-chain management opens doors for attaining competitive advantage and strong brand equity in the market, it is a component of the marketing mix that cannot be ignored . \n",
    "\n",
    "The distribution strategy and the channel design have to be right the first time. The case study of Sales channel includes the detailed study of TV, radio and newspaper channel. The study predicts the total sales generated from all the sales channel. \n",
    "\n",
    "Features:\n",
    "\n",
    "TV: advertising dollars spent on TV for a single product in a given market (in thousands of dollars)\n",
    "\n",
    "Radio: advertising dollars spent on Radio\n",
    "\n",
    "Newspaper: advertising dollars spent on Newspaper\n",
    "\n",
    "\n",
    "Target:\n",
    "\n",
    "Sales budget in thousands of dollars"
   ]
  },
  {
   "cell_type": "code",
   "execution_count": 6,
   "id": "a290ce24",
   "metadata": {},
   "outputs": [
    {
     "data": {
      "text/plain": [
       "(200, 4)"
      ]
     },
     "execution_count": 6,
     "metadata": {},
     "output_type": "execute_result"
    }
   ],
   "source": [
    "df.shape"
   ]
  },
  {
   "cell_type": "markdown",
   "id": "9d6dbfde",
   "metadata": {},
   "source": [
    "Total Rows: 200\n",
    "Total Columns: 4    "
   ]
  },
  {
   "cell_type": "code",
   "execution_count": 7,
   "id": "34cb9943",
   "metadata": {},
   "outputs": [
    {
     "data": {
      "text/plain": [
       "TV           float64\n",
       "radio        float64\n",
       "newspaper    float64\n",
       "sales        float64\n",
       "dtype: object"
      ]
     },
     "execution_count": 7,
     "metadata": {},
     "output_type": "execute_result"
    }
   ],
   "source": [
    "df.dtypes"
   ]
  },
  {
   "cell_type": "markdown",
   "id": "016845c6",
   "metadata": {},
   "source": [
    "All the features have numerical data"
   ]
  },
  {
   "cell_type": "code",
   "execution_count": 8,
   "id": "29acf687",
   "metadata": {},
   "outputs": [
    {
     "data": {
      "text/plain": [
       "Index(['TV', 'radio', 'newspaper', 'sales'], dtype='object')"
      ]
     },
     "execution_count": 8,
     "metadata": {},
     "output_type": "execute_result"
    }
   ],
   "source": [
    "df.columns"
   ]
  },
  {
   "cell_type": "markdown",
   "id": "e977d0b1",
   "metadata": {},
   "source": [
    "# EDA:"
   ]
  },
  {
   "cell_type": "markdown",
   "id": "5a6e43fa",
   "metadata": {},
   "source": [
    "#univariate analysis"
   ]
  },
  {
   "cell_type": "code",
   "execution_count": 55,
   "id": "b6303bee",
   "metadata": {},
   "outputs": [
    {
     "data": {
      "text/plain": [
       "<AxesSubplot:xlabel='TV', ylabel='Count'>"
      ]
     },
     "execution_count": 55,
     "metadata": {},
     "output_type": "execute_result"
    },
    {
     "data": {
      "image/png": "[encoded data removed]",
      "text/plain": [
       "<Figure size 432x288 with 1 Axes>"
      ]
     },
     "metadata": {
      "needs_background": "light"
     },
     "output_type": "display_data"
    }
   ],
   "source": [
    "sns.histplot(data=df,x='TV',bins=20)"
   ]
  },
  {
   "cell_type": "code",
   "execution_count": 10,
   "id": "b8cfa086",
   "metadata": {},
   "outputs": [
    {
     "data": {
      "text/plain": [
       "<AxesSubplot:xlabel='radio', ylabel='Count'>"
      ]
     },
     "execution_count": 10,
     "metadata": {},
     "output_type": "execute_result"
    },
    {
     "data": {
      "image/png": "[encoded data removed]",
      "text/plain": [
       "<Figure size 432x288 with 1 Axes>"
      ]
     },
     "metadata": {
      "needs_background": "light"
     },
     "output_type": "display_data"
    }
   ],
   "source": [
    "sns.histplot(data=df,x='radio',bins=10)"
   ]
  },
  {
   "cell_type": "code",
   "execution_count": 11,
   "id": "fe5f886c",
   "metadata": {},
   "outputs": [
    {
     "data": {
      "text/plain": [
       "<AxesSubplot:xlabel='newspaper', ylabel='Count'>"
      ]
     },
     "execution_count": 11,
     "metadata": {},
     "output_type": "execute_result"
    },
    {
     "data": {
      "image/png": "[encoded data removed]",
      "text/plain": [
       "<Figure size 432x288 with 1 Axes>"
      ]
     },
     "metadata": {
      "needs_background": "light"
     },
     "output_type": "display_data"
    }
   ],
   "source": [
    "sns.histplot(data=df,x='newspaper',bins=10)"
   ]
  },
  {
   "cell_type": "markdown",
   "id": "725f0090",
   "metadata": {},
   "source": [
    "Observation:\n",
    "1. The amount which is most frequently spent on TV advertisement is in the range of (200-230) dollars.\n",
    "2. The amount which is most frequently spent on radio advertisement is in the range of (0-8)dollars.\n",
    "3. The amount which is most frequently spent on newspaper advertisement is in the range of (0-10)dollars."
   ]
  },
  {
   "cell_type": "markdown",
   "id": "ef2d277f",
   "metadata": {},
   "source": [
    "#bivariate analysis"
   ]
  },
  {
   "cell_type": "code",
   "execution_count": 12,
   "id": "0657e266",
   "metadata": {},
   "outputs": [
    {
     "data": {
      "image/png": "[encoded data removed]",
      "text/plain": [
       "<Figure size 720x720 with 1 Axes>"
      ]
     },
     "metadata": {
      "needs_background": "light"
     },
     "output_type": "display_data"
    }
   ],
   "source": [
    "plt.figure(figsize=(10,10))\n",
    "sns.barplot(data=df,x='TV',y=\"sales\")\n",
    "plt.show()"
   ]
  },
  {
   "cell_type": "code",
   "execution_count": 13,
   "id": "ee80fbb7",
   "metadata": {},
   "outputs": [
    {
     "data": {
      "image/png": "[encoded data removed]",
      "text/plain": [
       "<Figure size 720x720 with 1 Axes>"
      ]
     },
     "metadata": {
      "needs_background": "light"
     },
     "output_type": "display_data"
    }
   ],
   "source": [
    "plt.figure(figsize=(10,10))\n",
    "sns.barplot(data=df,x='radio',y=\"sales\")\n",
    "plt.show()"
   ]
  },
  {
   "cell_type": "code",
   "execution_count": 14,
   "id": "223edc7a",
   "metadata": {},
   "outputs": [
    {
     "data": {
      "image/png": "[encoded data removed]",
      "text/plain": [
       "<Figure size 720x720 with 1 Axes>"
      ]
     },
     "metadata": {
      "needs_background": "light"
     },
     "output_type": "display_data"
    }
   ],
   "source": [
    "plt.figure(figsize=(10,10))\n",
    "sns.barplot(data=df,x='newspaper',y=\"sales\")\n",
    "plt.show()"
   ]
  },
  {
   "cell_type": "code",
   "execution_count": 15,
   "id": "b2af93a1",
   "metadata": {},
   "outputs": [
    {
     "data": {
      "text/plain": [
       "<seaborn.axisgrid.PairGrid at 0x1f8d1bbf310>"
      ]
     },
     "execution_count": 15,
     "metadata": {},
     "output_type": "execute_result"
    },
    {
     "data": {
      "image/png": "[encoded data removed]",
      "text/plain": [
       "<Figure size 720x720 with 20 Axes>"
      ]
     },
     "metadata": {
      "needs_background": "light"
     },
     "output_type": "display_data"
    }
   ],
   "source": [
    "sns.pairplot(df)"
   ]
  },
  {
   "cell_type": "markdown",
   "id": "fdcc6982",
   "metadata": {},
   "source": [
    "Observation:\n",
    "1.With increase in advertising dollar spent on TV,sales also increases.\n",
    "2.With increase in advertising dollar spent on radio,sales also increases.\n",
    "3.There is no clear image on sales with increase on dollar spent on newspaper"
   ]
  },
  {
   "cell_type": "markdown",
   "id": "ef220b07",
   "metadata": {},
   "source": [
    "# Data Set Description"
   ]
  },
  {
   "cell_type": "code",
   "execution_count": 16,
   "id": "30a18532",
   "metadata": {},
   "outputs": [
    {
     "data": {
      "text/html": [
       "<div>\n",
       "<style scoped>\n",
       "    .dataframe tbody tr th:only-of-type {\n",
       "        vertical-align: middle;\n",
       "    }\n",
       "\n",
       "    .dataframe tbody tr th {\n",
       "        vertical-align: top;\n",
       "    }\n",
       "\n",
       "    .dataframe thead th {\n",
       "        text-align: right;\n",
       "    }\n",
       "</style>\n",
       "<table border=\"1\" class=\"dataframe\">\n",
       "  <thead>\n",
       "    <tr style=\"text-align: right;\">\n",
       "      <th></th>\n",
       "      <th>TV</th>\n",
       "      <th>radio</th>\n",
       "      <th>newspaper</th>\n",
       "      <th>sales</th>\n",
       "    </tr>\n",
       "  </thead>\n",
       "  <tbody>\n",
       "    <tr>\n",
       "      <th>count</th>\n",
       "      <td>200.000000</td>\n",
       "      <td>200.000000</td>\n",
       "      <td>200.000000</td>\n",
       "      <td>200.000000</td>\n",
       "    </tr>\n",
       "    <tr>\n",
       "      <th>mean</th>\n",
       "      <td>147.042500</td>\n",
       "      <td>23.264000</td>\n",
       "      <td>30.554000</td>\n",
       "      <td>14.022500</td>\n",
       "    </tr>\n",
       "    <tr>\n",
       "      <th>std</th>\n",
       "      <td>85.854236</td>\n",
       "      <td>14.846809</td>\n",
       "      <td>21.778621</td>\n",
       "      <td>5.217457</td>\n",
       "    </tr>\n",
       "    <tr>\n",
       "      <th>min</th>\n",
       "      <td>0.700000</td>\n",
       "      <td>0.000000</td>\n",
       "      <td>0.300000</td>\n",
       "      <td>1.600000</td>\n",
       "    </tr>\n",
       "    <tr>\n",
       "      <th>25%</th>\n",
       "      <td>74.375000</td>\n",
       "      <td>9.975000</td>\n",
       "      <td>12.750000</td>\n",
       "      <td>10.375000</td>\n",
       "    </tr>\n",
       "    <tr>\n",
       "      <th>50%</th>\n",
       "      <td>149.750000</td>\n",
       "      <td>22.900000</td>\n",
       "      <td>25.750000</td>\n",
       "      <td>12.900000</td>\n",
       "    </tr>\n",
       "    <tr>\n",
       "      <th>75%</th>\n",
       "      <td>218.825000</td>\n",
       "      <td>36.525000</td>\n",
       "      <td>45.100000</td>\n",
       "      <td>17.400000</td>\n",
       "    </tr>\n",
       "    <tr>\n",
       "      <th>max</th>\n",
       "      <td>296.400000</td>\n",
       "      <td>49.600000</td>\n",
       "      <td>114.000000</td>\n",
       "      <td>27.000000</td>\n",
       "    </tr>\n",
       "  </tbody>\n",
       "</table>\n",
       "</div>"
      ],
      "text/plain": [
       "               TV       radio   newspaper       sales\n",
       "count  200.000000  200.000000  200.000000  200.000000\n",
       "mean   147.042500   23.264000   30.554000   14.022500\n",
       "std     85.854236   14.846809   21.778621    5.217457\n",
       "min      0.700000    0.000000    0.300000    1.600000\n",
       "25%     74.375000    9.975000   12.750000   10.375000\n",
       "50%    149.750000   22.900000   25.750000   12.900000\n",
       "75%    218.825000   36.525000   45.100000   17.400000\n",
       "max    296.400000   49.600000  114.000000   27.000000"
      ]
     },
     "execution_count": 16,
     "metadata": {},
     "output_type": "execute_result"
    }
   ],
   "source": [
    "df.describe()"
   ]
  },
  {
   "cell_type": "code",
   "execution_count": 17,
   "id": "b6791bb3",
   "metadata": {},
   "outputs": [
    {
     "data": {
      "image/png": "[encoded data removed]",
      "text/plain": [
       "<Figure size 1080x504 with 2 Axes>"
      ]
     },
     "metadata": {
      "needs_background": "light"
     },
     "output_type": "display_data"
    }
   ],
   "source": [
    "#visualisation\n",
    "plt.figure(figsize=(15,7))\n",
    "sns.heatmap(round(df.describe()[1:].transpose(),2),annot=True,linewidth=1,linecolor='yellow',fmt='.2f')\n",
    "plt.show()"
   ]
  },
  {
   "cell_type": "markdown",
   "id": "5a0773d6",
   "metadata": {},
   "source": [
    "Observation:\n",
    "1. The mean and median for TV,radio are almost equal indicating they might be normally distributed.\n",
    "2. Newspaper seems to be right skewed since mean>median.\n",
    "3. There is huge difference beteen min and 25% for TV indicating outliers might be present.\n",
    "4. There is huge difference beteen 75% and max for newspaper indicating outliers might be present."
   ]
  },
  {
   "cell_type": "markdown",
   "id": "c343b1e1",
   "metadata": {},
   "source": [
    "# Correlation of columns with target columns"
   ]
  },
  {
   "cell_type": "code",
   "execution_count": 18,
   "id": "d5809b43",
   "metadata": {},
   "outputs": [
    {
     "data": {
      "text/plain": [
       "newspaper    0.228299\n",
       "radio        0.576223\n",
       "TV           0.782224\n",
       "sales        1.000000\n",
       "Name: sales, dtype: float64"
      ]
     },
     "execution_count": 18,
     "metadata": {},
     "output_type": "execute_result"
    }
   ],
   "source": [
    "df.corr()['sales'].sort_values()"
   ]
  },
  {
   "cell_type": "code",
   "execution_count": 19,
   "id": "dbbe07c3",
   "metadata": {},
   "outputs": [
    {
     "data": {
      "text/plain": [
       "<AxesSubplot:>"
      ]
     },
     "execution_count": 19,
     "metadata": {},
     "output_type": "execute_result"
    },
    {
     "data": {
      "image/png": "[encoded data removed]",
      "text/plain": [
       "<Figure size 1584x504 with 2 Axes>"
      ]
     },
     "metadata": {
      "needs_background": "light"
     },
     "output_type": "display_data"
    }
   ],
   "source": [
    "plt.figure(figsize=(22,7))\n",
    "sns.heatmap(df.corr(),annot=True,fmt='0.2f',linecolor='yellow')"
   ]
  },
  {
   "cell_type": "markdown",
   "id": "6c68c3b7",
   "metadata": {},
   "source": [
    "Observation:\n",
    "1. TV is 78% correlated with target.\n",
    "2. Radio is 58% correlated with target.\n",
    "3. Newspaper is 23% correlated with target."
   ]
  },
  {
   "cell_type": "markdown",
   "id": "dfb20234",
   "metadata": {},
   "source": [
    "# Checking Skewness:"
   ]
  },
  {
   "cell_type": "code",
   "execution_count": 20,
   "id": "21a74f82",
   "metadata": {},
   "outputs": [
    {
     "data": {
      "text/plain": [
       "TV          -0.069853\n",
       "radio        0.094175\n",
       "newspaper    0.894720\n",
       "sales        0.407571\n",
       "dtype: float64"
      ]
     },
     "execution_count": 20,
     "metadata": {},
     "output_type": "execute_result"
    }
   ],
   "source": [
    "df.skew()"
   ]
  },
  {
   "cell_type": "markdown",
   "id": "214004fc",
   "metadata": {},
   "source": [
    "keeping +/-0.5 as the range for the skewness, newspaper is the columns which doesnot lie within this range and need further treatment."
   ]
  },
  {
   "cell_type": "code",
   "execution_count": 21,
   "id": "ee66ed47",
   "metadata": {},
   "outputs": [
    {
     "data": {
      "text/plain": [
       "<AxesSubplot:xlabel='TV', ylabel='Density'>"
      ]
     },
     "execution_count": 21,
     "metadata": {},
     "output_type": "execute_result"
    },
    {
     "data": {
      "image/png": "[encoded data removed]",
      "text/plain": [
       "<Figure size 432x288 with 1 Axes>"
      ]
     },
     "metadata": {
      "needs_background": "light"
     },
     "output_type": "display_data"
    }
   ],
   "source": [
    "sns.distplot(df['TV'])"
   ]
  },
  {
   "cell_type": "code",
   "execution_count": 22,
   "id": "7bda8830",
   "metadata": {},
   "outputs": [
    {
     "data": {
      "text/plain": [
       "<AxesSubplot:xlabel='radio', ylabel='Density'>"
      ]
     },
     "execution_count": 22,
     "metadata": {},
     "output_type": "execute_result"
    },
    {
     "data": {
      "image/png": "[encoded data removed]",
      "text/plain": [
       "<Figure size 432x288 with 1 Axes>"
      ]
     },
     "metadata": {
      "needs_background": "light"
     },
     "output_type": "display_data"
    }
   ],
   "source": [
    "sns.distplot(df['radio'])"
   ]
  },
  {
   "cell_type": "code",
   "execution_count": 23,
   "id": "ca41b5c4",
   "metadata": {},
   "outputs": [
    {
     "data": {
      "text/plain": [
       "<AxesSubplot:xlabel='newspaper', ylabel='Density'>"
      ]
     },
     "execution_count": 23,
     "metadata": {},
     "output_type": "execute_result"
    },
    {
     "data": {
      "image/png": "[encoded data removed]",
      "text/plain": [
       "<Figure size 432x288 with 1 Axes>"
      ]
     },
     "metadata": {
      "needs_background": "light"
     },
     "output_type": "display_data"
    }
   ],
   "source": [
    "sns.distplot(df['newspaper'])"
   ]
  },
  {
   "cell_type": "markdown",
   "id": "3453790a",
   "metadata": {},
   "source": [
    "Observation:\n",
    "TV and radio are normally distributed. Newspaper is right skewed."
   ]
  },
  {
   "cell_type": "markdown",
   "id": "2551e48d",
   "metadata": {},
   "source": [
    "# Outliers Checking:"
   ]
  },
  {
   "cell_type": "code",
   "execution_count": 24,
   "id": "4e264ab2",
   "metadata": {},
   "outputs": [
    {
     "data": {
      "text/plain": [
       "TV              AxesSubplot(0.125,0.536818;0.352273x0.343182)\n",
       "radio        AxesSubplot(0.547727,0.536818;0.352273x0.343182)\n",
       "newspaper          AxesSubplot(0.125,0.125;0.352273x0.343182)\n",
       "sales           AxesSubplot(0.547727,0.125;0.352273x0.343182)\n",
       "dtype: object"
      ]
     },
     "execution_count": 24,
     "metadata": {},
     "output_type": "execute_result"
    },
    {
     "data": {
      "image/png": "[encoded data removed]",
      "text/plain": [
       "<Figure size 720x720 with 4 Axes>"
      ]
     },
     "metadata": {
      "needs_background": "light"
     },
     "output_type": "display_data"
    }
   ],
   "source": [
    "df.plot(kind='box',subplots=True,layout=(2,2),figsize=(10,10))"
   ]
  },
  {
   "cell_type": "markdown",
   "id": "513e68f2",
   "metadata": {},
   "source": [
    "Observation:\n",
    "From the above outcome we can see very few oultiers present in newspaper but the datapoints are very close to the whiskers and cannot be trated as outlier."
   ]
  },
  {
   "cell_type": "markdown",
   "id": "8ad34dcc",
   "metadata": {},
   "source": [
    "# Data Preprocessing"
   ]
  },
  {
   "cell_type": "markdown",
   "id": "fffb88e7",
   "metadata": {},
   "source": [
    "# Transformation to remove skewness"
   ]
  },
  {
   "cell_type": "code",
   "execution_count": 25,
   "id": "2af4110f",
   "metadata": {},
   "outputs": [],
   "source": [
    "df['newspaper']=np.sqrt(df['newspaper'])"
   ]
  },
  {
   "cell_type": "code",
   "execution_count": 26,
   "id": "9bf17373",
   "metadata": {},
   "outputs": [
    {
     "data": {
      "text/plain": [
       "TV          -0.069853\n",
       "radio        0.094175\n",
       "newspaper    0.062388\n",
       "sales        0.407571\n",
       "dtype: float64"
      ]
     },
     "execution_count": 26,
     "metadata": {},
     "output_type": "execute_result"
    }
   ],
   "source": [
    "df.skew()"
   ]
  },
  {
   "cell_type": "code",
   "execution_count": 27,
   "id": "8e8f1522",
   "metadata": {},
   "outputs": [
    {
     "data": {
      "text/plain": [
       "<AxesSubplot:xlabel='newspaper', ylabel='Density'>"
      ]
     },
     "execution_count": 27,
     "metadata": {},
     "output_type": "execute_result"
    },
    {
     "data": {
      "image/png": "[encoded data removed]",
      "text/plain": [
       "<Figure size 432x288 with 1 Axes>"
      ]
     },
     "metadata": {
      "needs_background": "light"
     },
     "output_type": "display_data"
    }
   ],
   "source": [
    "sns.distplot(df['newspaper'])"
   ]
  },
  {
   "cell_type": "markdown",
   "id": "a0801799",
   "metadata": {},
   "source": [
    "# Seperating the data into features and target"
   ]
  },
  {
   "cell_type": "code",
   "execution_count": 28,
   "id": "c18a28fc",
   "metadata": {},
   "outputs": [],
   "source": [
    "#independent column\n",
    "x=df.iloc[:,:-1]"
   ]
  },
  {
   "cell_type": "code",
   "execution_count": 29,
   "id": "6a7b615e",
   "metadata": {},
   "outputs": [],
   "source": [
    "#target\n",
    "y=df.iloc[:,-1]"
   ]
  },
  {
   "cell_type": "code",
   "execution_count": 30,
   "id": "6e5618c6",
   "metadata": {},
   "outputs": [
    {
     "data": {
      "text/html": [
       "<div>\n",
       "<style scoped>\n",
       "    .dataframe tbody tr th:only-of-type {\n",
       "        vertical-align: middle;\n",
       "    }\n",
       "\n",
       "    .dataframe tbody tr th {\n",
       "        vertical-align: top;\n",
       "    }\n",
       "\n",
       "    .dataframe thead th {\n",
       "        text-align: right;\n",
       "    }\n",
       "</style>\n",
       "<table border=\"1\" class=\"dataframe\">\n",
       "  <thead>\n",
       "    <tr style=\"text-align: right;\">\n",
       "      <th></th>\n",
       "      <th>TV</th>\n",
       "      <th>radio</th>\n",
       "      <th>newspaper</th>\n",
       "    </tr>\n",
       "  </thead>\n",
       "  <tbody>\n",
       "    <tr>\n",
       "      <th>0</th>\n",
       "      <td>230.1</td>\n",
       "      <td>37.8</td>\n",
       "      <td>8.318654</td>\n",
       "    </tr>\n",
       "    <tr>\n",
       "      <th>1</th>\n",
       "      <td>44.5</td>\n",
       "      <td>39.3</td>\n",
       "      <td>6.715653</td>\n",
       "    </tr>\n",
       "    <tr>\n",
       "      <th>2</th>\n",
       "      <td>17.2</td>\n",
       "      <td>45.9</td>\n",
       "      <td>8.324662</td>\n",
       "    </tr>\n",
       "    <tr>\n",
       "      <th>3</th>\n",
       "      <td>151.5</td>\n",
       "      <td>41.3</td>\n",
       "      <td>7.648529</td>\n",
       "    </tr>\n",
       "    <tr>\n",
       "      <th>4</th>\n",
       "      <td>180.8</td>\n",
       "      <td>10.8</td>\n",
       "      <td>7.641989</td>\n",
       "    </tr>\n",
       "    <tr>\n",
       "      <th>...</th>\n",
       "      <td>...</td>\n",
       "      <td>...</td>\n",
       "      <td>...</td>\n",
       "    </tr>\n",
       "    <tr>\n",
       "      <th>195</th>\n",
       "      <td>38.2</td>\n",
       "      <td>3.7</td>\n",
       "      <td>3.714835</td>\n",
       "    </tr>\n",
       "    <tr>\n",
       "      <th>196</th>\n",
       "      <td>94.2</td>\n",
       "      <td>4.9</td>\n",
       "      <td>2.846050</td>\n",
       "    </tr>\n",
       "    <tr>\n",
       "      <th>197</th>\n",
       "      <td>177.0</td>\n",
       "      <td>9.3</td>\n",
       "      <td>2.529822</td>\n",
       "    </tr>\n",
       "    <tr>\n",
       "      <th>198</th>\n",
       "      <td>283.6</td>\n",
       "      <td>42.0</td>\n",
       "      <td>8.136338</td>\n",
       "    </tr>\n",
       "    <tr>\n",
       "      <th>199</th>\n",
       "      <td>232.1</td>\n",
       "      <td>8.6</td>\n",
       "      <td>2.949576</td>\n",
       "    </tr>\n",
       "  </tbody>\n",
       "</table>\n",
       "<p>200 rows × 3 columns</p>\n",
       "</div>"
      ],
      "text/plain": [
       "        TV  radio  newspaper\n",
       "0    230.1   37.8   8.318654\n",
       "1     44.5   39.3   6.715653\n",
       "2     17.2   45.9   8.324662\n",
       "3    151.5   41.3   7.648529\n",
       "4    180.8   10.8   7.641989\n",
       "..     ...    ...        ...\n",
       "195   38.2    3.7   3.714835\n",
       "196   94.2    4.9   2.846050\n",
       "197  177.0    9.3   2.529822\n",
       "198  283.6   42.0   8.136338\n",
       "199  232.1    8.6   2.949576\n",
       "\n",
       "[200 rows x 3 columns]"
      ]
     },
     "execution_count": 30,
     "metadata": {},
     "output_type": "execute_result"
    }
   ],
   "source": [
    "x"
   ]
  },
  {
   "cell_type": "code",
   "execution_count": 31,
   "id": "e0c36a17",
   "metadata": {},
   "outputs": [
    {
     "data": {
      "text/plain": [
       "0      22.1\n",
       "1      10.4\n",
       "2       9.3\n",
       "3      18.5\n",
       "4      12.9\n",
       "       ... \n",
       "195     7.6\n",
       "196     9.7\n",
       "197    12.8\n",
       "198    25.5\n",
       "199    13.4\n",
       "Name: sales, Length: 200, dtype: float64"
      ]
     },
     "execution_count": 31,
     "metadata": {},
     "output_type": "execute_result"
    }
   ],
   "source": [
    "y"
   ]
  },
  {
   "cell_type": "markdown",
   "id": "49ebd11c",
   "metadata": {},
   "source": [
    "# Since our outcome has continuous variable we will use regression model"
   ]
  },
  {
   "cell_type": "markdown",
   "id": "9f96c21a",
   "metadata": {},
   "source": [
    "# Linear Regression"
   ]
  },
  {
   "cell_type": "code",
   "execution_count": 32,
   "id": "fbcc2867",
   "metadata": {},
   "outputs": [
    {
     "name": "stdout",
     "output_type": "stream",
     "text": [
      "training score : 0.894969443184809\n",
      "testing score : 0.8951632785467964\n",
      "At random_state= 89 the model performs well \n",
      "\n"
     ]
    }
   ],
   "source": [
    "from sklearn.linear_model import LinearRegression\n",
    "lr=LinearRegression()\n",
    "from sklearn.metrics import r2_score\n",
    "from sklearn.metrics import mean_squared_error,mean_absolute_error\n",
    "from sklearn.model_selection import train_test_split\n",
    "import warnings\n",
    "warnings.filterwarnings('ignore')\n",
    "for i in range(0,100):\n",
    "    x_train,x_test,y_train,y_test=train_test_split(x,y,test_size=.3,random_state=i)\n",
    "    lr.fit(x_train,y_train)\n",
    "    train_pred=lr.predict(x_train)\n",
    "    test_pred=lr.predict(x_test)\n",
    "    if round(r2_score(y_train,train_pred),3)==round(r2_score(y_test,test_pred),3):\n",
    "        print('training score :',r2_score(y_train,train_pred))\n",
    "        print('testing score :',r2_score(y_test,test_pred))\n",
    "        print('At random_state=',i,\"the model performs well\",'\\n')"
   ]
  },
  {
   "cell_type": "code",
   "execution_count": 33,
   "id": "3398e10e",
   "metadata": {},
   "outputs": [
    {
     "name": "stdout",
     "output_type": "stream",
     "text": [
      "testing score : 0.8951632785467964\n",
      "training score : 0.894969443184809\n",
      "Error:\n",
      "Mean absolue error: 1.3652608700983941\n",
      "Mean squared error: 3.025462850713058\n",
      "Root Mean squared error: 1.7393857682276976\n"
     ]
    }
   ],
   "source": [
    "#selecting random_state =89\n",
    "x_train,x_test,y_train,y_test=train_test_split(x,y,test_size=.3,random_state=89)\n",
    "lr.fit(x_train,y_train)\n",
    "test_pred=lr.predict(x_test)\n",
    "train_pred=lr.predict(x_train)\n",
    "print('testing score :',r2_score(y_test,test_pred))\n",
    "print('training score :',r2_score(y_train,train_pred))\n",
    "print('Error:')\n",
    "print('Mean absolue error:',mean_absolute_error(y_test,test_pred))\n",
    "print('Mean squared error:',mean_squared_error(y_test,test_pred))\n",
    "print('Root Mean squared error:',np.sqrt(mean_squared_error(y_test,test_pred)))"
   ]
  },
  {
   "cell_type": "markdown",
   "id": "673261f0",
   "metadata": {},
   "source": [
    "# Cross Validation Of the Model:"
   ]
  },
  {
   "cell_type": "code",
   "execution_count": 34,
   "id": "0eac929f",
   "metadata": {},
   "outputs": [
    {
     "name": "stdout",
     "output_type": "stream",
     "text": [
      "At crossfold= 2 the cv score is 0.8916349860383767\n",
      "training score : 0.894969443184809\n",
      "testing score : 0.8951632785467964\n",
      "\n",
      "\n",
      "At crossfold= 3 the cv score is 0.8915588165323286\n",
      "training score : 0.894969443184809\n",
      "testing score : 0.8951632785467964\n",
      "\n",
      "\n",
      "At crossfold= 4 the cv score is 0.8903579284297553\n",
      "training score : 0.894969443184809\n",
      "testing score : 0.8951632785467964\n",
      "\n",
      "\n",
      "At crossfold= 5 the cv score is 0.8873331295445761\n",
      "training score : 0.894969443184809\n",
      "testing score : 0.8951632785467964\n",
      "\n",
      "\n",
      "At crossfold= 6 the cv score is 0.8900202280811486\n",
      "training score : 0.894969443184809\n",
      "testing score : 0.8951632785467964\n",
      "\n",
      "\n",
      "At crossfold= 7 the cv score is 0.8861692012354758\n",
      "training score : 0.894969443184809\n",
      "testing score : 0.8951632785467964\n",
      "\n",
      "\n",
      "At crossfold= 8 the cv score is 0.8826536626159895\n",
      "training score : 0.894969443184809\n",
      "testing score : 0.8951632785467964\n",
      "\n",
      "\n",
      "At crossfold= 9 the cv score is 0.882418124174371\n",
      "training score : 0.894969443184809\n",
      "testing score : 0.8951632785467964\n",
      "\n",
      "\n",
      "At crossfold= 10 the cv score is 0.8855595315298699\n",
      "training score : 0.894969443184809\n",
      "testing score : 0.8951632785467964\n",
      "\n",
      "\n",
      "At crossfold= 11 the cv score is 0.8773044264046539\n",
      "training score : 0.894969443184809\n",
      "testing score : 0.8951632785467964\n",
      "\n",
      "\n",
      "At crossfold= 12 the cv score is 0.8847355716344252\n",
      "training score : 0.894969443184809\n",
      "testing score : 0.8951632785467964\n",
      "\n",
      "\n",
      "At crossfold= 13 the cv score is 0.8845968234514742\n",
      "training score : 0.894969443184809\n",
      "testing score : 0.8951632785467964\n",
      "\n",
      "\n",
      "At crossfold= 14 the cv score is 0.8738550272649512\n",
      "training score : 0.894969443184809\n",
      "testing score : 0.8951632785467964\n",
      "\n",
      "\n"
     ]
    }
   ],
   "source": [
    "from sklearn.model_selection import cross_val_score\n",
    "for k in range(2,15):\n",
    "    cv_score=cross_val_score(lr,x,y,cv=k)\n",
    "    cv_mean=cv_score.mean()\n",
    "    print('At crossfold=',k,'the cv score is',cv_mean)\n",
    "    print('training score :',r2_score(y_train,train_pred))\n",
    "    print('testing score :',r2_score(y_test,test_pred))\n",
    "    print('\\n')"
   ]
  },
  {
   "cell_type": "markdown",
   "id": "a668cb90",
   "metadata": {},
   "source": [
    "Since the number of folds dont have such impact on the accuracy score and cv_score.So cv=4 is selected.\n",
    "HERE WE HAVE HANDLED THE PROBLEM OF OVERFITTING AND UNDERFITTING BY CHECKING TRAINING AND TESTING SCORE"
   ]
  },
  {
   "cell_type": "code",
   "execution_count": 35,
   "id": "19b48664",
   "metadata": {},
   "outputs": [
    {
     "data": {
      "image/png": "[encoded data removed]",
      "text/plain": [
       "<Figure size 360x360 with 1 Axes>"
      ]
     },
     "metadata": {
      "needs_background": "light"
     },
     "output_type": "display_data"
    }
   ],
   "source": [
    "plt.figure(figsize=(5,5))\n",
    "plt.scatter(y_test,test_pred,color='r')\n",
    "plt.plot(y_test,y_test,color='b',linewidth='4')\n",
    "plt.show()"
   ]
  },
  {
   "cell_type": "markdown",
   "id": "5195f9b3",
   "metadata": {},
   "source": [
    "Observation:\n",
    "    Some predicted values are away from the best fit line."
   ]
  },
  {
   "cell_type": "markdown",
   "id": "1afe180e",
   "metadata": {},
   "source": [
    "# Decision Tree Regressor"
   ]
  },
  {
   "cell_type": "code",
   "execution_count": 36,
   "id": "6adc1929",
   "metadata": {},
   "outputs": [
    {
     "name": "stdout",
     "output_type": "stream",
     "text": [
      "testing score : 0.9397584273085889\n",
      "training score : 1.0\n",
      "The CV score is: 0.9399591069685787\n",
      "Error:\n",
      "Mean absolue error: 1.0183333333333335\n",
      "Mean squared error: 1.7384999999999995\n",
      "Root Mean squared error: 1.318521899704362\n"
     ]
    }
   ],
   "source": [
    "from sklearn.tree import DecisionTreeRegressor\n",
    "dtr=DecisionTreeRegressor()\n",
    "dtr.fit(x_train,y_train)\n",
    "dtrpred=dtr.predict(x_test)\n",
    "dtr.score(x_train,y_train)\n",
    "cv_score=cross_val_score(dtr,x,y,cv=4)\n",
    "cv_mean=cv_score.mean()\n",
    "print('testing score :',r2_score(y_test,dtrpred))\n",
    "print('training score :',dtr.score(x_train,y_train))\n",
    "print('The CV score is:',cv_mean)\n",
    "print('Error:')\n",
    "print('Mean absolue error:',mean_absolute_error(y_test,dtrpred))\n",
    "print('Mean squared error:',mean_squared_error(y_test,dtrpred))\n",
    "print('Root Mean squared error:',np.sqrt(mean_squared_error(y_test,dtrpred)))"
   ]
  },
  {
   "cell_type": "markdown",
   "id": "0e2c90d4",
   "metadata": {},
   "source": [
    "# Support Vector Regressor"
   ]
  },
  {
   "cell_type": "code",
   "execution_count": 37,
   "id": "98c93222",
   "metadata": {},
   "outputs": [
    {
     "name": "stdout",
     "output_type": "stream",
     "text": [
      "The CV score is: 0.8228691459691664\n",
      "testing score : 0.8438619967691756\n",
      "training score : 0.8022309736069783\n",
      "Error:\n",
      "Mean absolue error: 1.5311464643063717\n",
      "Mean squared error: 4.5059567087877435\n",
      "Root Mean squared error: 2.1227238889661892\n"
     ]
    }
   ],
   "source": [
    "from sklearn.svm import SVR\n",
    "from sklearn.metrics import confusion_matrix,classification_report,accuracy_score\n",
    "svr=SVR()                         \n",
    "svr.fit(x_train,y_train)\n",
    "svrpred=svr.predict(x_test)\n",
    "svr.score(x_train,y_train) \n",
    "cv_score=cross_val_score(svr,x,y,cv=4)\n",
    "cv_mean=cv_score.mean()\n",
    "print('The CV score is:',cv_mean)\n",
    "print('testing score :',r2_score(y_test,svrpred))\n",
    "print('training score :',svr.score(x_train,y_train))\n",
    "print('Error:')\n",
    "print('Mean absolue error:',mean_absolute_error(y_test,svrpred))\n",
    "print('Mean squared error:',mean_squared_error(y_test,svrpred))\n",
    "print('Root Mean squared error:',np.sqrt(mean_squared_error(y_test,svrpred)))"
   ]
  },
  {
   "cell_type": "markdown",
   "id": "7a855b8c",
   "metadata": {},
   "source": [
    "# KNeighborsRegressor"
   ]
  },
  {
   "cell_type": "code",
   "execution_count": 38,
   "id": "74d4b21a",
   "metadata": {},
   "outputs": [
    {
     "name": "stdout",
     "output_type": "stream",
     "text": [
      "The CV score is: 0.9495934573491601\n",
      "testing score : 0.9666625181162193\n",
      "training score : 0.9672261448134466\n",
      "Error:\n",
      "Mean absolue error: 0.7626666666666667\n",
      "Mean squared error: 0.9620800000000004\n",
      "Root Mean squared error: 0.9808567683408217\n"
     ]
    }
   ],
   "source": [
    "from sklearn.neighbors import KNeighborsRegressor\n",
    "knr=KNeighborsRegressor()\n",
    "knr.fit(x_train,y_train)\n",
    "knrpred=knr.predict(x_test)\n",
    "knr.score(x_train,y_train)\n",
    "cv_score=cross_val_score(knr,x,y,cv=4)\n",
    "cv_mean=cv_score.mean()\n",
    "print('The CV score is:',cv_mean)\n",
    "print('testing score :',r2_score(y_test,knrpred))\n",
    "print('training score :',knr.score(x_train,y_train))\n",
    "print('Error:')\n",
    "print('Mean absolue error:',mean_absolute_error(y_test,knrpred))\n",
    "print('Mean squared error:',mean_squared_error(y_test,knrpred))\n",
    "print('Root Mean squared error:',np.sqrt(mean_squared_error(y_test,knrpred)))"
   ]
  },
  {
   "cell_type": "markdown",
   "id": "71905585",
   "metadata": {},
   "source": [
    "# Ensemble Methods\n",
    "Random Forest Regressor"
   ]
  },
  {
   "cell_type": "code",
   "execution_count": 39,
   "id": "d4ab37fd",
   "metadata": {},
   "outputs": [
    {
     "name": "stdout",
     "output_type": "stream",
     "text": [
      "The CV score is: 0.9773711163967751\n",
      "testing score : 0.9771577227865438\n",
      "training score : 0.9967723808383511\n",
      "Error:\n",
      "Mean absolue error: 0.6464333333333331\n",
      "Mean squared error: 0.6592008999999993\n",
      "Root Mean squared error: 0.811911879454907\n"
     ]
    }
   ],
   "source": [
    "from sklearn.ensemble import RandomForestRegressor\n",
    "rf=RandomForestRegressor()     \n",
    "rf.fit(x_train,y_train)\n",
    "rfpred=rf.predict(x_test)\n",
    "rf.score(x_train,y_train)\n",
    "cv_score=cross_val_score(rf,x,y,cv=4)\n",
    "cv_mean=cv_score.mean()\n",
    "print('The CV score is:',cv_mean)\n",
    "print('testing score :',r2_score(y_test,rfpred))\n",
    "print('training score :',rf.score(x_train,y_train))\n",
    "print('Error:')\n",
    "print('Mean absolue error:',mean_absolute_error(y_test,rfpred))\n",
    "print('Mean squared error:',mean_squared_error(y_test,rfpred))\n",
    "print('Root Mean squared error:',np.sqrt(mean_squared_error(y_test,rfpred)))"
   ]
  },
  {
   "cell_type": "markdown",
   "id": "39f7d97c",
   "metadata": {},
   "source": [
    "Adaboost Regressor"
   ]
  },
  {
   "cell_type": "code",
   "execution_count": 40,
   "id": "46c6c0e1",
   "metadata": {},
   "outputs": [
    {
     "name": "stdout",
     "output_type": "stream",
     "text": [
      "The CV score is: 0.9617358606000493\n",
      "testing score : 0.9592401005484172\n",
      "training score : 0.9772996136937625\n",
      "Error:\n",
      "Mean absolue error: 0.8810018848928866\n",
      "Mean squared error: 1.1762821259591656\n",
      "Root Mean squared error: 1.0845654087970746\n"
     ]
    }
   ],
   "source": [
    "from sklearn.ensemble import AdaBoostRegressor\n",
    "ad=AdaBoostRegressor(n_estimators=300)      \n",
    "ad.fit(x_train,y_train)\n",
    "adpred=ad.predict(x_test)\n",
    "ad.score(x_train,y_train)\n",
    "ad.score(x_train,y_train)\n",
    "cv_score=cross_val_score(ad,x,y,cv=4)\n",
    "cv_mean=cv_score.mean()\n",
    "print('The CV score is:',cv_mean)\n",
    "print('testing score :',r2_score(y_test,adpred))\n",
    "print('training score :',ad.score(x_train,y_train))\n",
    "print('Error:')\n",
    "print('Mean absolue error:',mean_absolute_error(y_test,adpred))\n",
    "print('Mean squared error:',mean_squared_error(y_test,adpred))\n",
    "print('Root Mean squared error:',np.sqrt(mean_squared_error(y_test,adpred)))"
   ]
  },
  {
   "cell_type": "raw",
   "id": "fd48629d",
   "metadata": {},
   "source": [
    "observation: Adaboost,RandomForest and KNN model performing well."
   ]
  },
  {
   "cell_type": "markdown",
   "id": "4d756f4d",
   "metadata": {},
   "source": [
    "# TUNING THE MODEL USING GRID SEARCH CV"
   ]
  },
  {
   "cell_type": "code",
   "execution_count": 41,
   "id": "94687a57",
   "metadata": {},
   "outputs": [],
   "source": [
    "from sklearn.model_selection import GridSearchCV"
   ]
  },
  {
   "cell_type": "code",
   "execution_count": 42,
   "id": "fc4a6a3e",
   "metadata": {},
   "outputs": [
    {
     "name": "stdout",
     "output_type": "stream",
     "text": [
      "{'max_depth': 10, 'max_features': 'auto', 'n_estimators': 300}\n"
     ]
    }
   ],
   "source": [
    "# random forest\n",
    "parameters={'n_estimators':[100,200,300,350],'max_features':['auto','sqrt','log2'],'max_depth':[5,10]}\n",
    "rf=RandomForestRegressor()\n",
    "rfg=GridSearchCV(rf,parameters)\n",
    "rfg.fit(x_train,y_train)\n",
    "print(rfg.best_params_)"
   ]
  },
  {
   "cell_type": "code",
   "execution_count": 43,
   "id": "0b7cdaa4",
   "metadata": {},
   "outputs": [
    {
     "name": "stdout",
     "output_type": "stream",
     "text": [
      "The CV score is: 0.9782610970601726\n",
      "testing score : 0.9753156709226083\n",
      "training score : 0.9968341958170213\n",
      "Error:\n",
      "Mean absolue error: 0.6759065702947856\n",
      "Mean squared error: 0.712360321681375\n",
      "Root Mean squared error: 0.8440144084560257\n"
     ]
    }
   ],
   "source": [
    "rf=RandomForestRegressor(n_estimators=350,max_features='auto',max_depth=10)     \n",
    "rf.fit(x_train,y_train)\n",
    "rfpred=rf.predict(x_test)\n",
    "rf.score(x_train,y_train)\n",
    "cv_score=cross_val_score(rf,x,y,cv=4)\n",
    "cv_mean=cv_score.mean()\n",
    "print('The CV score is:',cv_mean)\n",
    "print('testing score :',r2_score(y_test,rfpred))\n",
    "print('training score :',rf.score(x_train,y_train))\n",
    "print('Error:')\n",
    "print('Mean absolue error:',mean_absolute_error(y_test,rfpred))\n",
    "print('Mean squared error:',mean_squared_error(y_test,rfpred))\n",
    "print('Root Mean squared error:',np.sqrt(mean_squared_error(y_test,rfpred)))"
   ]
  },
  {
   "cell_type": "code",
   "execution_count": 44,
   "id": "ed575ef2",
   "metadata": {},
   "outputs": [
    {
     "name": "stdout",
     "output_type": "stream",
     "text": [
      "{'learning_rate': 1, 'n_estimators': 200}\n"
     ]
    }
   ],
   "source": [
    "#adaboost\n",
    "parameters={'n_estimators':[100,200,300,350],'learning_rate':[0.001,0.01,0.1,1,10]}\n",
    "ad=AdaBoostRegressor()\n",
    "adg=GridSearchCV(ad,parameters)\n",
    "adg.fit(x_train,y_train)\n",
    "print(adg.best_params_)"
   ]
  },
  {
   "cell_type": "code",
   "execution_count": 45,
   "id": "6309f60b",
   "metadata": {},
   "outputs": [
    {
     "name": "stdout",
     "output_type": "stream",
     "text": [
      "The CV score is: 0.962657042103575\n",
      "testing score : 0.9566181551193809\n",
      "training score : 0.9756205404927452\n",
      "Error:\n",
      "Mean absolue error: 0.8963768042661167\n",
      "Mean squared error: 1.2519483465561865\n",
      "Root Mean squared error: 1.118904976553499\n"
     ]
    }
   ],
   "source": [
    "from sklearn.ensemble import AdaBoostRegressor\n",
    "ad=AdaBoostRegressor(n_estimators=350,learning_rate=1)      \n",
    "ad.fit(x_train,y_train)\n",
    "adpred=ad.predict(x_test)\n",
    "ad.score(x_train,y_train)\n",
    "ad.score(x_train,y_train)\n",
    "cv_score=cross_val_score(ad,x,y,cv=4)\n",
    "cv_mean=cv_score.mean()\n",
    "print('The CV score is:',cv_mean)\n",
    "print('testing score :',r2_score(y_test,adpred))\n",
    "print('training score :',ad.score(x_train,y_train))\n",
    "print('Error:')\n",
    "print('Mean absolue error:',mean_absolute_error(y_test,adpred))\n",
    "print('Mean squared error:',mean_squared_error(y_test,adpred))\n",
    "print('Root Mean squared error:',np.sqrt(mean_squared_error(y_test,adpred)))"
   ]
  },
  {
   "cell_type": "code",
   "execution_count": 46,
   "id": "140cceab",
   "metadata": {},
   "outputs": [
    {
     "name": "stdout",
     "output_type": "stream",
     "text": [
      "{'n_neighbors': 5}\n"
     ]
    }
   ],
   "source": [
    "#kneighbors \n",
    "parameters={'n_neighbors':[5,10,15,20,25,30,35]}\n",
    "knr=KNeighborsRegressor()\n",
    "knrg=GridSearchCV(knr,parameters)\n",
    "knrg.fit(x_train,y_train)\n",
    "print(knrg.best_params_)"
   ]
  },
  {
   "cell_type": "code",
   "execution_count": 47,
   "id": "2c3ba9db",
   "metadata": {},
   "outputs": [
    {
     "name": "stdout",
     "output_type": "stream",
     "text": [
      "The CV score is: 0.9495934573491601\n",
      "testing score : 0.9666625181162193\n",
      "training score : 0.9672261448134466\n",
      "Error:\n",
      "Mean absolue error: 0.7626666666666667\n",
      "Mean squared error: 0.9620800000000004\n",
      "Root Mean squared error: 0.9808567683408217\n"
     ]
    }
   ],
   "source": [
    "knr=KNeighborsRegressor(n_neighbors=5)\n",
    "knr.fit(x_train,y_train)\n",
    "knrpred=knr.predict(x_test)\n",
    "knr.score(x_train,y_train)\n",
    "cv_score=cross_val_score(knr,x,y,cv=4)\n",
    "cv_mean=cv_score.mean()\n",
    "print('The CV score is:',cv_mean)\n",
    "print('testing score :',r2_score(y_test,knrpred))\n",
    "print('training score :',knr.score(x_train,y_train))\n",
    "print('Error:')\n",
    "print('Mean absolue error:',mean_absolute_error(y_test,knrpred))\n",
    "print('Mean squared error:',mean_squared_error(y_test,knrpred))\n",
    "print('Root Mean squared error:',np.sqrt(mean_squared_error(y_test,knrpred)))"
   ]
  },
  {
   "cell_type": "markdown",
   "id": "c1dd05ec",
   "metadata": {},
   "source": [
    "# CONCLUSION:"
   ]
  },
  {
   "cell_type": "markdown",
   "id": "b7b4c720",
   "metadata": {},
   "source": [
    "Comparing the performance metrics we selecting Random Forest as our final model as it is very perforing extremely well in comparison to oher model."
   ]
  },
  {
   "cell_type": "code",
   "execution_count": 48,
   "id": "24225c59",
   "metadata": {},
   "outputs": [
    {
     "data": {
      "text/html": [
       "<div>\n",
       "<style scoped>\n",
       "    .dataframe tbody tr th:only-of-type {\n",
       "        vertical-align: middle;\n",
       "    }\n",
       "\n",
       "    .dataframe tbody tr th {\n",
       "        vertical-align: top;\n",
       "    }\n",
       "\n",
       "    .dataframe thead th {\n",
       "        text-align: right;\n",
       "    }\n",
       "</style>\n",
       "<table border=\"1\" class=\"dataframe\">\n",
       "  <thead>\n",
       "    <tr style=\"text-align: right;\">\n",
       "      <th></th>\n",
       "      <th>Original</th>\n",
       "      <th>Predicted</th>\n",
       "    </tr>\n",
       "  </thead>\n",
       "  <tbody>\n",
       "    <tr>\n",
       "      <th>0</th>\n",
       "      <td>7.3</td>\n",
       "      <td>7.366286</td>\n",
       "    </tr>\n",
       "    <tr>\n",
       "      <th>1</th>\n",
       "      <td>12.8</td>\n",
       "      <td>12.734679</td>\n",
       "    </tr>\n",
       "    <tr>\n",
       "      <th>2</th>\n",
       "      <td>8.8</td>\n",
       "      <td>10.149143</td>\n",
       "    </tr>\n",
       "    <tr>\n",
       "      <th>3</th>\n",
       "      <td>19.0</td>\n",
       "      <td>18.420119</td>\n",
       "    </tr>\n",
       "    <tr>\n",
       "      <th>4</th>\n",
       "      <td>12.0</td>\n",
       "      <td>12.276810</td>\n",
       "    </tr>\n",
       "    <tr>\n",
       "      <th>5</th>\n",
       "      <td>16.9</td>\n",
       "      <td>17.375548</td>\n",
       "    </tr>\n",
       "    <tr>\n",
       "      <th>6</th>\n",
       "      <td>9.3</td>\n",
       "      <td>10.200095</td>\n",
       "    </tr>\n",
       "    <tr>\n",
       "      <th>7</th>\n",
       "      <td>8.4</td>\n",
       "      <td>9.532000</td>\n",
       "    </tr>\n",
       "    <tr>\n",
       "      <th>8</th>\n",
       "      <td>20.7</td>\n",
       "      <td>19.846064</td>\n",
       "    </tr>\n",
       "    <tr>\n",
       "      <th>9</th>\n",
       "      <td>9.7</td>\n",
       "      <td>10.434548</td>\n",
       "    </tr>\n",
       "    <tr>\n",
       "      <th>10</th>\n",
       "      <td>15.5</td>\n",
       "      <td>15.148071</td>\n",
       "    </tr>\n",
       "    <tr>\n",
       "      <th>11</th>\n",
       "      <td>11.4</td>\n",
       "      <td>11.457900</td>\n",
       "    </tr>\n",
       "    <tr>\n",
       "      <th>12</th>\n",
       "      <td>23.8</td>\n",
       "      <td>23.368000</td>\n",
       "    </tr>\n",
       "    <tr>\n",
       "      <th>13</th>\n",
       "      <td>12.6</td>\n",
       "      <td>12.755488</td>\n",
       "    </tr>\n",
       "    <tr>\n",
       "      <th>14</th>\n",
       "      <td>5.3</td>\n",
       "      <td>3.738286</td>\n",
       "    </tr>\n",
       "    <tr>\n",
       "      <th>15</th>\n",
       "      <td>9.2</td>\n",
       "      <td>8.226286</td>\n",
       "    </tr>\n",
       "    <tr>\n",
       "      <th>16</th>\n",
       "      <td>16.7</td>\n",
       "      <td>14.322000</td>\n",
       "    </tr>\n",
       "    <tr>\n",
       "      <th>17</th>\n",
       "      <td>17.0</td>\n",
       "      <td>17.048857</td>\n",
       "    </tr>\n",
       "    <tr>\n",
       "      <th>18</th>\n",
       "      <td>8.7</td>\n",
       "      <td>10.295981</td>\n",
       "    </tr>\n",
       "    <tr>\n",
       "      <th>19</th>\n",
       "      <td>18.9</td>\n",
       "      <td>19.794595</td>\n",
       "    </tr>\n",
       "    <tr>\n",
       "      <th>20</th>\n",
       "      <td>21.8</td>\n",
       "      <td>22.608143</td>\n",
       "    </tr>\n",
       "    <tr>\n",
       "      <th>21</th>\n",
       "      <td>9.5</td>\n",
       "      <td>10.258857</td>\n",
       "    </tr>\n",
       "    <tr>\n",
       "      <th>22</th>\n",
       "      <td>7.2</td>\n",
       "      <td>7.088000</td>\n",
       "    </tr>\n",
       "    <tr>\n",
       "      <th>23</th>\n",
       "      <td>9.4</td>\n",
       "      <td>10.070457</td>\n",
       "    </tr>\n",
       "    <tr>\n",
       "      <th>24</th>\n",
       "      <td>17.3</td>\n",
       "      <td>16.797429</td>\n",
       "    </tr>\n",
       "    <tr>\n",
       "      <th>25</th>\n",
       "      <td>11.6</td>\n",
       "      <td>11.472429</td>\n",
       "    </tr>\n",
       "    <tr>\n",
       "      <th>26</th>\n",
       "      <td>8.7</td>\n",
       "      <td>8.670857</td>\n",
       "    </tr>\n",
       "    <tr>\n",
       "      <th>27</th>\n",
       "      <td>20.7</td>\n",
       "      <td>20.636857</td>\n",
       "    </tr>\n",
       "    <tr>\n",
       "      <th>28</th>\n",
       "      <td>19.4</td>\n",
       "      <td>19.064578</td>\n",
       "    </tr>\n",
       "    <tr>\n",
       "      <th>29</th>\n",
       "      <td>4.8</td>\n",
       "      <td>5.249143</td>\n",
       "    </tr>\n",
       "    <tr>\n",
       "      <th>30</th>\n",
       "      <td>8.5</td>\n",
       "      <td>7.498000</td>\n",
       "    </tr>\n",
       "    <tr>\n",
       "      <th>31</th>\n",
       "      <td>10.4</td>\n",
       "      <td>10.775917</td>\n",
       "    </tr>\n",
       "    <tr>\n",
       "      <th>32</th>\n",
       "      <td>24.2</td>\n",
       "      <td>24.813171</td>\n",
       "    </tr>\n",
       "    <tr>\n",
       "      <th>33</th>\n",
       "      <td>6.7</td>\n",
       "      <td>6.817429</td>\n",
       "    </tr>\n",
       "    <tr>\n",
       "      <th>34</th>\n",
       "      <td>11.8</td>\n",
       "      <td>10.495857</td>\n",
       "    </tr>\n",
       "    <tr>\n",
       "      <th>35</th>\n",
       "      <td>22.6</td>\n",
       "      <td>22.136619</td>\n",
       "    </tr>\n",
       "    <tr>\n",
       "      <th>36</th>\n",
       "      <td>11.3</td>\n",
       "      <td>10.959714</td>\n",
       "    </tr>\n",
       "    <tr>\n",
       "      <th>37</th>\n",
       "      <td>15.3</td>\n",
       "      <td>13.931143</td>\n",
       "    </tr>\n",
       "    <tr>\n",
       "      <th>38</th>\n",
       "      <td>13.2</td>\n",
       "      <td>12.686556</td>\n",
       "    </tr>\n",
       "    <tr>\n",
       "      <th>39</th>\n",
       "      <td>17.4</td>\n",
       "      <td>16.889429</td>\n",
       "    </tr>\n",
       "    <tr>\n",
       "      <th>40</th>\n",
       "      <td>9.5</td>\n",
       "      <td>8.174857</td>\n",
       "    </tr>\n",
       "    <tr>\n",
       "      <th>41</th>\n",
       "      <td>24.4</td>\n",
       "      <td>24.012286</td>\n",
       "    </tr>\n",
       "    <tr>\n",
       "      <th>42</th>\n",
       "      <td>13.2</td>\n",
       "      <td>13.662738</td>\n",
       "    </tr>\n",
       "    <tr>\n",
       "      <th>43</th>\n",
       "      <td>12.9</td>\n",
       "      <td>13.299338</td>\n",
       "    </tr>\n",
       "    <tr>\n",
       "      <th>44</th>\n",
       "      <td>12.4</td>\n",
       "      <td>11.625188</td>\n",
       "    </tr>\n",
       "    <tr>\n",
       "      <th>45</th>\n",
       "      <td>9.6</td>\n",
       "      <td>10.348171</td>\n",
       "    </tr>\n",
       "    <tr>\n",
       "      <th>46</th>\n",
       "      <td>16.1</td>\n",
       "      <td>15.124190</td>\n",
       "    </tr>\n",
       "    <tr>\n",
       "      <th>47</th>\n",
       "      <td>14.8</td>\n",
       "      <td>14.085857</td>\n",
       "    </tr>\n",
       "    <tr>\n",
       "      <th>48</th>\n",
       "      <td>9.7</td>\n",
       "      <td>10.695798</td>\n",
       "    </tr>\n",
       "    <tr>\n",
       "      <th>49</th>\n",
       "      <td>17.3</td>\n",
       "      <td>18.090952</td>\n",
       "    </tr>\n",
       "    <tr>\n",
       "      <th>50</th>\n",
       "      <td>5.9</td>\n",
       "      <td>6.915429</td>\n",
       "    </tr>\n",
       "    <tr>\n",
       "      <th>51</th>\n",
       "      <td>16.0</td>\n",
       "      <td>13.986000</td>\n",
       "    </tr>\n",
       "    <tr>\n",
       "      <th>52</th>\n",
       "      <td>9.6</td>\n",
       "      <td>10.038857</td>\n",
       "    </tr>\n",
       "    <tr>\n",
       "      <th>53</th>\n",
       "      <td>14.9</td>\n",
       "      <td>15.415405</td>\n",
       "    </tr>\n",
       "    <tr>\n",
       "      <th>54</th>\n",
       "      <td>19.0</td>\n",
       "      <td>18.299595</td>\n",
       "    </tr>\n",
       "    <tr>\n",
       "      <th>55</th>\n",
       "      <td>11.7</td>\n",
       "      <td>12.229935</td>\n",
       "    </tr>\n",
       "    <tr>\n",
       "      <th>56</th>\n",
       "      <td>19.6</td>\n",
       "      <td>19.804540</td>\n",
       "    </tr>\n",
       "    <tr>\n",
       "      <th>57</th>\n",
       "      <td>22.3</td>\n",
       "      <td>22.197190</td>\n",
       "    </tr>\n",
       "    <tr>\n",
       "      <th>58</th>\n",
       "      <td>12.6</td>\n",
       "      <td>13.011286</td>\n",
       "    </tr>\n",
       "    <tr>\n",
       "      <th>59</th>\n",
       "      <td>27.0</td>\n",
       "      <td>25.302286</td>\n",
       "    </tr>\n",
       "  </tbody>\n",
       "</table>\n",
       "</div>"
      ],
      "text/plain": [
       "    Original  Predicted\n",
       "0        7.3   7.366286\n",
       "1       12.8  12.734679\n",
       "2        8.8  10.149143\n",
       "3       19.0  18.420119\n",
       "4       12.0  12.276810\n",
       "5       16.9  17.375548\n",
       "6        9.3  10.200095\n",
       "7        8.4   9.532000\n",
       "8       20.7  19.846064\n",
       "9        9.7  10.434548\n",
       "10      15.5  15.148071\n",
       "11      11.4  11.457900\n",
       "12      23.8  23.368000\n",
       "13      12.6  12.755488\n",
       "14       5.3   3.738286\n",
       "15       9.2   8.226286\n",
       "16      16.7  14.322000\n",
       "17      17.0  17.048857\n",
       "18       8.7  10.295981\n",
       "19      18.9  19.794595\n",
       "20      21.8  22.608143\n",
       "21       9.5  10.258857\n",
       "22       7.2   7.088000\n",
       "23       9.4  10.070457\n",
       "24      17.3  16.797429\n",
       "25      11.6  11.472429\n",
       "26       8.7   8.670857\n",
       "27      20.7  20.636857\n",
       "28      19.4  19.064578\n",
       "29       4.8   5.249143\n",
       "30       8.5   7.498000\n",
       "31      10.4  10.775917\n",
       "32      24.2  24.813171\n",
       "33       6.7   6.817429\n",
       "34      11.8  10.495857\n",
       "35      22.6  22.136619\n",
       "36      11.3  10.959714\n",
       "37      15.3  13.931143\n",
       "38      13.2  12.686556\n",
       "39      17.4  16.889429\n",
       "40       9.5   8.174857\n",
       "41      24.4  24.012286\n",
       "42      13.2  13.662738\n",
       "43      12.9  13.299338\n",
       "44      12.4  11.625188\n",
       "45       9.6  10.348171\n",
       "46      16.1  15.124190\n",
       "47      14.8  14.085857\n",
       "48       9.7  10.695798\n",
       "49      17.3  18.090952\n",
       "50       5.9   6.915429\n",
       "51      16.0  13.986000\n",
       "52       9.6  10.038857\n",
       "53      14.9  15.415405\n",
       "54      19.0  18.299595\n",
       "55      11.7  12.229935\n",
       "56      19.6  19.804540\n",
       "57      22.3  22.197190\n",
       "58      12.6  13.011286\n",
       "59      27.0  25.302286"
      ]
     },
     "execution_count": 48,
     "metadata": {},
     "output_type": "execute_result"
    }
   ],
   "source": [
    "original=np.array(y_test)\n",
    "predicted=np.array(rfpred)\n",
    "df_com=pd.DataFrame({'Original':original,'Predicted':predicted})\n",
    "df_com"
   ]
  },
  {
   "cell_type": "code",
   "execution_count": 49,
   "id": "2bf71320",
   "metadata": {},
   "outputs": [
    {
     "data": {
      "image/png": "[encoded data removed]",
      "text/plain": [
       "<Figure size 720x720 with 1 Axes>"
      ]
     },
     "metadata": {
      "needs_background": "light"
     },
     "output_type": "display_data"
    }
   ],
   "source": [
    "plt.figure(figsize=(10,10))\n",
    "plt.scatter(y_test,rfpred,color='r')\n",
    "plt.plot(y_test,y_test,color='b',linewidth='4')\n",
    "plt.show()"
   ]
  },
  {
   "cell_type": "markdown",
   "id": "7aff6dec",
   "metadata": {},
   "source": [
    "Observation:\n",
    "    Maximun predicted values are very close to the best fit line."
   ]
  },
  {
   "cell_type": "markdown",
   "id": "a0584649",
   "metadata": {},
   "source": [
    "# SAVING BEST MODEL"
   ]
  },
  {
   "cell_type": "code",
   "execution_count": 50,
   "id": "a34105c6",
   "metadata": {},
   "outputs": [],
   "source": [
    "import joblib"
   ]
  },
  {
   "cell_type": "code",
   "execution_count": 51,
   "id": "8fed22b4",
   "metadata": {},
   "outputs": [
    {
     "data": {
      "text/plain": [
       "['rffile.obj']"
      ]
     },
     "execution_count": 51,
     "metadata": {},
     "output_type": "execute_result"
    }
   ],
   "source": [
    "joblib.dump(rf,'rffile.obj')"
   ]
  }
 ],
 "metadata": {
  "kernelspec": {
   "display_name": "Python 3",
   "language": "python",
   "name": "python3"
  },
  "language_info": {
   "codemirror_mode": {
    "name": "ipython",
    "version": 3
   },
   "file_extension": ".py",
   "mimetype": "text/x-python",
   "name": "python",
   "nbconvert_exporter": "python",
   "pygments_lexer": "ipython3",
   "version": "3.8.8"
  }
 },
 "nbformat": 4,
 "nbformat_minor": 5
}
